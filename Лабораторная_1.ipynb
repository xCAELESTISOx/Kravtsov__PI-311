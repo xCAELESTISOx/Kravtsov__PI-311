{
  "nbformat": 4,
  "nbformat_minor": 0,
  "metadata": {
    "colab": {
      "provenance": [],
      "authorship_tag": "ABX9TyMXPaOc4VyeX8obX0dGJ8TK",
      "include_colab_link": true
    },
    "kernelspec": {
      "name": "python3",
      "display_name": "Python 3"
    },
    "language_info": {
      "name": "python"
    }
  },
  "cells": [
    {
      "cell_type": "markdown",
      "metadata": {
        "id": "view-in-github",
        "colab_type": "text"
      },
      "source": [
        "<a href=\"https://colab.research.google.com/github/xCAELESTISOx/Kravtsov__PI-311/blob/main/%D0%9B%D0%B0%D0%B1%D0%BE%D1%80%D0%B0%D1%82%D0%BE%D1%80%D0%BD%D0%B0%D1%8F_1.ipynb\" target=\"_parent\"><img src=\"https://colab.research.google.com/assets/colab-badge.svg\" alt=\"Open In Colab\"/></a>"
      ]
    },
    {
      "cell_type": "code",
      "execution_count": null,
      "metadata": {
        "id": "kySrKufHA7kO"
      },
      "outputs": [],
      "source": [
        "a = 5\n",
        "b = int(input())\n",
        "print(a * b)"
      ]
    },
    {
      "cell_type": "code",
      "source": [
        "a = int(input())\n",
        "b =int(input())\n",
        "print((a + b) ** 2)"
      ],
      "metadata": {
        "id": "itYTKKXWBATy"
      },
      "execution_count": null,
      "outputs": []
    },
    {
      "cell_type": "code",
      "source": [
        "a = 15\n",
        "b = 10\n",
        "c = int(input())\n",
        "print((a + b) / c)"
      ],
      "metadata": {
        "id": "nT7U9dMdBCFD"
      },
      "execution_count": null,
      "outputs": []
    },
    {
      "cell_type": "code",
      "source": [
        "a = int(input(\"Введите первое число\"))\n",
        "b = int(input(\"Введите второе число\"))\n",
        "c = (a + b) ** 2\n",
        "print(\"Квадарат их суммы равен \", c)"
      ],
      "metadata": {
        "id": "OEck4PkTBDSL"
      },
      "execution_count": null,
      "outputs": []
    },
    {
      "cell_type": "code",
      "source": [
        "print(\"Введите длину каждой изтрех сторонтреугольника\")\n",
        "a = int(input())\n",
        "b = int(input())\n",
        "c = int(input())\n",
        "d = a + b + c\n",
        "print(\"Периметр равен\", d)\n",
        "e = d/2\n",
        "f = 0.5 ** (e * (e - a) * (e - b ) * (e - c))\n",
        "print(\"Плозадь равна \", f)"
      ],
      "metadata": {
        "id": "xQA-cInFBEgA"
      },
      "execution_count": null,
      "outputs": []
    },
    {
      "cell_type": "code",
      "source": [
        "a = int(input(\"Введите число \")) ** 2\n",
        "print(\"Квадрат вашего числа равен\", str(a))\n",
        "devider = int(input(\"Введите число-делитель \"))\n",
        "print(\"Квадрат, разделенный на второе чило, равен:1\")\n",
        "print(a // devider)\n"
      ],
      "metadata": {
        "id": "9J_hOZS8BKYU"
      },
      "execution_count": null,
      "outputs": []
    },
    {
      "cell_type": "code",
      "source": [
        "a = int(input())\n",
        "b = int(input())\n",
        "c = (((a ** 3) + 14) / 5) * b\n",
        "print(c)"
      ],
      "metadata": {
        "id": "cFt-FrcVBF9w"
      },
      "execution_count": null,
      "outputs": []
    },
    {
      "cell_type": "code",
      "source": [
        "seconds = int(input(\"Введите число секунд \"))\n",
        "minutes = seconds / 60\n",
        "print(\"Заданное количество секунд равно \", str(minutes), \" минутам\")\n",
        "hours = minutes / 60\n",
        "print(\"Заданное количество секунд равно \", str(hours), \" часам\")\n",
        "days = hours / 24\n",
        "print(\"Заданное количество секунд равно \", str(days), \" дням\")\n"
      ],
      "metadata": {
        "id": "w19rFAm4BcPB"
      },
      "execution_count": null,
      "outputs": []
    },
    {
      "cell_type": "code",
      "source": [
        "n = int(input(\"Введите челове число n \"))\n",
        "result = n + n * n + n * n * n\n",
        "print(result)"
      ],
      "metadata": {
        "id": "X6yOPE7sBlp6"
      },
      "execution_count": null,
      "outputs": []
    }
  ]
}
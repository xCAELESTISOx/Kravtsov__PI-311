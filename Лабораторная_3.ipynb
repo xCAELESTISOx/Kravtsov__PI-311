{
  "nbformat": 4,
  "nbformat_minor": 0,
  "metadata": {
    "colab": {
      "provenance": [],
      "authorship_tag": "ABX9TyODKUbS/Z9Zayon6sgy7Rxl",
      "include_colab_link": true
    },
    "kernelspec": {
      "name": "python3",
      "display_name": "Python 3"
    },
    "language_info": {
      "name": "python"
    }
  },
  "cells": [
    {
      "cell_type": "markdown",
      "metadata": {
        "id": "view-in-github",
        "colab_type": "text"
      },
      "source": [
        "<a href=\"https://colab.research.google.com/github/xCAELESTISOx/Kravtsov__PI-311/blob/main/%D0%9B%D0%B0%D0%B1%D0%BE%D1%80%D0%B0%D1%82%D0%BE%D1%80%D0%BD%D0%B0%D1%8F_3.ipynb\" target=\"_parent\"><img src=\"https://colab.research.google.com/assets/colab-badge.svg\" alt=\"Open In Colab\"/></a>"
      ]
    },
    {
      "cell_type": "code",
      "execution_count": null,
      "metadata": {
        "id": "i3LiTyUQ-jXz",
        "colab": {
          "base_uri": "https://localhost:8080/"
        },
        "outputId": "c216eea7-5a2b-4c39-8f83-a2fadad98258"
      },
      "outputs": [
        {
          "output_type": "stream",
          "name": "stdout",
          "text": [
            "Введите значение hshs\n",
            "Некорректный номер месяца\n"
          ]
        }
      ],
      "source": [
        "months = ['Январь' , 'Февраль' , 'Март' , 'Апрель' , 'Май' , 'Июнь' , 'Июль' , 'Август' , 'Сентябрь' , 'Октябрь' , 'Ноябрь', 'Декабрь']\n",
        "\n",
        "try:\n",
        "  month_index = int(input('Введите значение '))\n",
        "  if (month_index > 0 and month_index < 13):\n",
        "    newMonth = months[month_index  - 1]\n",
        "    print(newMonth)\n",
        "  else:\n",
        "    raise Exception('Некорректный номер месяца')\n",
        "except:\n",
        "  print('Некорректный номер месяца')"
      ]
    },
    {
      "cell_type": "code",
      "source": [
        "try:\n",
        "  num = int(input())\n",
        "  if num % 2:\n",
        "    print('Нечетное')\n",
        "  else:\n",
        "    print('Четное')\n",
        "except:\n",
        "  print('Введите корректное значение')"
      ],
      "metadata": {
        "colab": {
          "base_uri": "https://localhost:8080/"
        },
        "id": "r5xBAgS1Z7mK",
        "outputId": "fc998018-c24e-45aa-a72c-e5055d08f2d3"
      },
      "execution_count": null,
      "outputs": [
        {
          "output_type": "stream",
          "name": "stdout",
          "text": [
            "dd\n",
            "asd\n"
          ]
        }
      ]
    },
    {
      "cell_type": "code",
      "source": [
        "try:\n",
        "  num = int(input())\n",
        "  if num > 40:\n",
        "    print('stonks')\n",
        "  else:\n",
        "    print('not stonks')\n",
        "except:\n",
        "  print('Введите корректное значение')"
      ],
      "metadata": {
        "colab": {
          "base_uri": "https://localhost:8080/"
        },
        "id": "kLQAtS5YpU3M",
        "outputId": "1abf01e7-5fba-4eb5-9dea-e737e346f1a4"
      },
      "execution_count": null,
      "outputs": [
        {
          "output_type": "stream",
          "name": "stdout",
          "text": [
            "444\n",
            "stonks\n"
          ]
        }
      ]
    },
    {
      "cell_type": "code",
      "source": [
        "def is_year_leap(year):\n",
        "  try:\n",
        "    if (year % 4 == 0) and (0 != year % 100) or (0 == year % 400):\n",
        "      return 'Високосный'\n",
        "    else:\n",
        "      return 'Невисокосный'\n",
        "  except:\n",
        "    return 'Введите корректное значение'\n",
        "\n",
        "year = int(input())\n",
        "\n",
        "is_year_leap(year)"
      ],
      "metadata": {
        "colab": {
          "base_uri": "https://localhost:8080/"
        },
        "id": "uFecyhfksvsC",
        "outputId": "7c53399f-6e31-4ac1-a437-64affb1491ec"
      },
      "execution_count": null,
      "outputs": [
        {
          "output_type": "stream",
          "name": "stdout",
          "text": [
            "2024\n",
            "Високосный\n"
          ]
        }
      ]
    },
    {
      "cell_type": "code",
      "source": [
        "def is_prime(value):\n",
        "  if '.' in value or int(value) < 1:\n",
        "    return False\n",
        "  else:\n",
        "    return True\n",
        "\n",
        "text = input()\n",
        "\n",
        "is_prime(text)"
      ],
      "metadata": {
        "colab": {
          "base_uri": "https://localhost:8080/"
        },
        "id": "fJDYhvsnyiEk",
        "outputId": "b8882b0c-9c60-44a4-8f92-c59b25ee7d55"
      },
      "execution_count": null,
      "outputs": [
        {
          "name": "stdout",
          "output_type": "stream",
          "text": [
            "-234\n"
          ]
        },
        {
          "output_type": "execute_result",
          "data": {
            "text/plain": [
              "False"
            ]
          },
          "metadata": {},
          "execution_count": 48
        }
      ]
    },
    {
      "cell_type": "code",
      "source": [
        "const1 = (-138/2)**1.3\n",
        "const2 = (-69/28**5.1)*44\n",
        "\n",
        "try:\n",
        "  num1 = float(input())\n",
        "  num2 = float(input())\n",
        "\n",
        "  if (num1 / num2 == 3.6) or (num2 >= const1.real) or num2 <= abs(const2):\n",
        "    resNum1 = num1\n",
        "    num1 = num2\n",
        "    num2 = resNum1\n",
        "\n",
        "    print(num1, num2)\n",
        "except:\n",
        "  print('Введите корректное значение')"
      ],
      "metadata": {
        "colab": {
          "base_uri": "https://localhost:8080/"
        },
        "id": "UEUeBVBA_IWF",
        "outputId": "b290155e-e756-4814-9d5b-1cec3dac5366"
      },
      "execution_count": null,
      "outputs": [
        {
          "output_type": "stream",
          "name": "stdout",
          "text": [
            "12\n",
            "43.2\n",
            "43.2 12.0\n"
          ]
        }
      ]
    },
    {
      "cell_type": "code",
      "source": [
        "nums_array = []\n",
        "uniqe_nums = []\n",
        "neg_nums_count = 0\n",
        "even_nums_count = 0\n",
        "nums_in_range = 0\n",
        "\n",
        "try:\n",
        "  for i in range(5):\n",
        "    new_num = int(input())\n",
        "    nums_array.append(new_num)\n",
        "\n",
        "  for num in nums_array:\n",
        "    if not num in uniqe_nums:\n",
        "      uniqe_nums.append(num)\n",
        "    \n",
        "    if not num % 2:\n",
        "      even_nums_count += 1\n",
        "\n",
        "    if num < 0:\n",
        "      neg_nums_count += 1\n",
        "\n",
        "    if num >= -256 and num <= 1024:\n",
        "      nums_in_range += 1\n",
        "\n",
        "  if (len(uniqe_nums) == len(nums_array)):\n",
        "    print('Все числа уникальные')\n",
        "\n",
        "\n",
        "  print('Чисел в промежутке [-256 ; 1024]:', nums_in_range)\n",
        "  print('Отрицательных чисел:', neg_nums_count)\n",
        "  print('Четных чисел:', even_nums_count)\n",
        "\n",
        "except:\n",
        "  print('Введите корректное значение')"
      ],
      "metadata": {
        "colab": {
          "base_uri": "https://localhost:8080/"
        },
        "id": "j_iU8zlKWjjq",
        "outputId": "35562880-1b5b-458f-9600-fd4694da34e1"
      },
      "execution_count": null,
      "outputs": [
        {
          "output_type": "stream",
          "name": "stdout",
          "text": [
            "1\n",
            "2\n",
            "3\n",
            "1025\n",
            "-4\n",
            "Все числа уникальные\n",
            "Чисел в промежутке [-256 ; 1024]: 5\n",
            "Отрицательных чисел: 1\n",
            "Четных чисел: 2\n"
          ]
        }
      ]
    },
    {
      "cell_type": "code",
      "source": [
        "try:\n",
        "  a = int(input(\"Введите переменную A:\"))\n",
        "  b = int(input(\"Введите переменную B:\"))\n",
        "  c = int(input(\"Введите переменную C:\"))\n",
        "\n",
        "  if c == -3:\n",
        "    raise\n",
        "\n",
        "  res = ((a**2+b**3)/c+3) / 4\n",
        "\n",
        "  if res % 2:\n",
        "    print('Результат нечетный')\n",
        "  else:\n",
        "    print('Результат четный')\n",
        "  \n",
        "except:\n",
        "  print('Введено некорректное значение')"
      ],
      "metadata": {
        "colab": {
          "base_uri": "https://localhost:8080/"
        },
        "id": "FQNtxo3x8JIC",
        "outputId": "7d5e5c95-dd20-43d6-d5cb-bd0f88fdc86a"
      },
      "execution_count": null,
      "outputs": [
        {
          "output_type": "stream",
          "name": "stdout",
          "text": [
            "Введите переменную A:1\n",
            "Введите переменную B:2\n",
            "Введите переменную C:3\n",
            "Результат нечетный\n"
          ]
        }
      ]
    }
  ]
}